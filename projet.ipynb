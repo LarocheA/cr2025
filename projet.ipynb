## Description du projet
Ce projet sous Python est conçu pour suivre les cours des cryptomonnaies et gérer un portefeuille d'investissement. Il permet aux utilisateurs de récupérer des données en temps réel, de gérer leurs transactions, et d'analyser la performance de leur portefeuille.

## Fonctionnalités
- Récupération des données de cryptomonnaies en temps réel
- Gestion de portefeuille (ajout/suppression de transactions)
- Analyse de performance et calculs financiers
- Interface utilisateur en ligne de commande (CLI)
- Visualisation des données et graphiques
